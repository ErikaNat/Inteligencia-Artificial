{
  "nbformat": 4,
  "nbformat_minor": 0,
  "metadata": {
    "colab": {
      "provenance": [],
      "authorship_tag": "ABX9TyMVpMMnFE7Iig1W6Haf562w",
      "include_colab_link": true
    },
    "kernelspec": {
      "name": "python3",
      "display_name": "Python 3"
    },
    "language_info": {
      "name": "python"
    }
  },
  "cells": [
    {
      "cell_type": "markdown",
      "metadata": {
        "id": "view-in-github",
        "colab_type": "text"
      },
      "source": [
        "<a href=\"https://colab.research.google.com/github/ErikaNat/Inteligencia-Artificial/blob/main/Intro_a_Inteligencia_Artificial.ipynb\" target=\"_parent\"><img src=\"https://colab.research.google.com/assets/colab-badge.svg\" alt=\"Open In Colab\"/></a>"
      ]
    },
    {
      "cell_type": "code",
      "execution_count": null,
      "metadata": {
        "colab": {
          "base_uri": "https://localhost:8080/"
        },
        "id": "5BkQ8jCpJ5zG",
        "outputId": "8918e21a-3a61-4eda-8666-529fefc19013"
      },
      "outputs": [
        {
          "output_type": "stream",
          "name": "stdout",
          "text": [
            "Paciente 1: Posible gripe\n",
            "Paciente 2: Posible resfriado común\n",
            "Paciente 3: Posible intoxicación alimentaria\n"
          ]
        }
      ],
      "source": [
        "#Ejemplo de enfoque\n",
        "def diagnosticar(sintomas):\n",
        "  if \"fiebre\" in sintomas and \"tos\" in sintomas and \"dolor_garganta\" in sintomas:\n",
        "    return \"Posible gripe\"\n",
        "  elif \"fiebre\" in sintomas and \"dolor_cabeza\" in sintomas and \"rigidez_cuello\" in sistemas:\n",
        "    return \"Posible meningitis\"\n",
        "  elif \"estornudos\" in sintomas and \"congestion\" in sintomas:\n",
        "    return \"Posible resfriado común\"\n",
        "  elif \"dolor_estomago\" in sintomas and \"nauseas\" in sintomas:\n",
        "    return \"Posible intoxicación alimentaria\"\n",
        "  else:\n",
        "    return \"Diágnostico no determinado\"\n",
        "\n",
        "paciente_1 = [\"fiebre\", \"tos\", \"dolor_garganta\"]\n",
        "paciente_2 = [\"estornudos\", \"congestion\"]\n",
        "paciente_3 = [\"dolor_estomago\", \"nauseas\"]\n",
        "\n",
        "\n",
        "print(\"Paciente 1:\" , diagnosticar(paciente_1))\n",
        "print(\"Paciente 2:\", diagnosticar(paciente_2))\n",
        "print(\"Paciente 3:\", diagnosticar(paciente_3))"
      ]
    },
    {
      "cell_type": "code",
      "source": [
        "\n",
        "# Clasificación con Naive (GaussianNB) en el dataset Breast Cancer\n",
        "from sklearn.datasets import load_breast_cancer\n",
        "from sklearn.model_selection import train_test_split\n",
        "from sklearn.naive_bayes import GaussianNB\n",
        "from sklearn.metrics import accuracy_score, classification_report, confusion_matrix\n",
        "\n",
        "X, y = load_breast_cancer(return_X_y=True)\n",
        "\n",
        "X_train, X_test, y_train, y_test = train_test_split(\n",
        "    X, y, test_size=0.25, random_state=42, stratify=y\n",
        ")\n",
        "\n",
        "nb = GaussianNB()\n",
        "nb.fit(X_train,y_train)\n",
        "\n",
        "y_pred_nb = nb.predict (X_test)\n",
        "print(\"Naive Bayes - accuracy:\", accuracy_score (y_test, y_pred_nb))\n",
        "print(confusion_matrix (y_test, y_pred_nb))\n",
        "print(classification_report (y_test,y_pred_nb))\n",
        "\n"
      ],
      "metadata": {
        "colab": {
          "base_uri": "https://localhost:8080/"
        },
        "id": "_wace7ZAM3X6",
        "outputId": "20661034-31a4-4c9d-e9d8-66aca3407ee6"
      },
      "execution_count": null,
      "outputs": [
        {
          "output_type": "stream",
          "name": "stdout",
          "text": [
            "Naive Bayes - accuracy: 0.9370629370629371\n",
            "[[46  7]\n",
            " [ 2 88]]\n",
            "              precision    recall  f1-score   support\n",
            "\n",
            "           0       0.96      0.87      0.91        53\n",
            "           1       0.93      0.98      0.95        90\n",
            "\n",
            "    accuracy                           0.94       143\n",
            "   macro avg       0.94      0.92      0.93       143\n",
            "weighted avg       0.94      0.94      0.94       143\n",
            "\n"
          ]
        }
      ]
    },
    {
      "cell_type": "code",
      "source": [
        "#Clasificacion  con red Neuronal (MLP) en el msmo dataset\n",
        "from sklearn.neural_network import MLPClassifier\n",
        "from sklearn.preprocessing import StandardScaler\n",
        "from sklearn.pipeline import make_pipeline\n",
        "\n",
        "mlp = make_pipeline (\n",
        "    StandardScaler(),\n",
        "    MLPClassifier(hidden_layer_sizes=(32,16),\n",
        "                  activation=\"relu\",\n",
        "                  solver=\"adam\",\n",
        "                  max_iter=1000,\n",
        "                  random_state=42)\n",
        ")\n",
        "mlp.fit(X_train, y_train)\n",
        "\n",
        "y_pred_mlp = mlp.predict(X_test)\n",
        "print(\"MLP - accuracy:\", accuracy_score(y_test, y_pred_mlp))\n",
        "print(confusion_matrix(y_test, y_pred_mlp))\n",
        "print(classification_report(y_test, y_pred_mlp))\n"
      ],
      "metadata": {
        "colab": {
          "base_uri": "https://localhost:8080/"
        },
        "id": "ZkkrsoQ6Qe0X",
        "outputId": "fd975dc4-7a47-4c65-fdb5-14fe06a4a42e"
      },
      "execution_count": null,
      "outputs": [
        {
          "output_type": "stream",
          "name": "stdout",
          "text": [
            "MLP - accuracy: 0.965034965034965\n",
            "[[52  1]\n",
            " [ 4 86]]\n",
            "              precision    recall  f1-score   support\n",
            "\n",
            "           0       0.93      0.98      0.95        53\n",
            "           1       0.99      0.96      0.97        90\n",
            "\n",
            "    accuracy                           0.97       143\n",
            "   macro avg       0.96      0.97      0.96       143\n",
            "weighted avg       0.97      0.97      0.97       143\n",
            "\n"
          ]
        }
      ]
    },
    {
      "cell_type": "code",
      "source": [
        "#Programacion genetica\n",
        "!pip install deap --quiet\n",
        "\n",
        "import operator, random\n",
        "import numpy as np\n",
        "from deap import base, creator, tools, gp\n",
        "from sklearn.datasets import load_breast_cancer\n",
        "from sklearn.model_selection import train_test_split\n",
        "from sklearn.metrics import accuracy_score\n",
        "\n",
        "#1  Daaset Real\n",
        "X, y =load_breast_cancer(return_X_y=True)\n",
        "X_train, X_test, y_train, y_test = train_test_split(\n",
        "    X, y, test_size=0.25, random_state=42, stratify=y\n",
        ")\n",
        "#2 DEfinicion de operadores basicos\n",
        "pset = gp.PrimitiveSet(\"MAIN\", X.shape[1])\n",
        "pset.addPrimitive(operator.add, 2)\n",
        "pset.addPrimitive(operator.sub, 2)\n",
        "pset.addPrimitive(operator.mul, 2)\n",
        "pset.addPrimitive(operator.neg, 1)\n",
        "pset.addPrimitive(np.sin, 1)\n",
        "pset.addPrimitive(np.cos, 1)\n",
        "pset.addEphemeralConstant(\"rand\", lambda: random.uniform(-1,1))\n",
        "\n",
        "#3 Definicion de tipos de individuoy fitness\n",
        "creator.create(\"FitnessMax\", base.Fitness, weights=(1.0,))\n",
        "creator.create(\"Individual\", gp.PrimitiveTree, fitness=creator.FitnessMax)\n",
        "\n",
        "toolbox = base.Toolbox()\n",
        "toolbox.register(\"expr\", gp.genHalfAndHalf, pset=pset, min_=1, max_=2)\n",
        "toolbox.register(\"individual\", tools.initIterate, creator.Individual, toolbox.expr)\n",
        "toolbox.register(\"population\", tools.initRepeat, list, toolbox.individual)\n",
        "\n",
        "#4 Evaluacion : usamos accuracy como fitness\n",
        "def eval_individual(individual):\n",
        "  func = toolbox.compile(expr=individual)\n",
        "  preds = [1 if func(*x) > 0 else 0 for x in X_train]\n",
        "  return accuracy_score(y_train, preds),\n",
        "\n",
        "toolbox.register(\"compile\", gp.compile, pset=pset)\n",
        "toolbox.register(\"evaluate\", eval_individual)\n",
        "toolbox.register(\"select\", tools.selTournament, tournsize=3)\n",
        "toolbox.register(\"mate\", gp.cxOnePoint)\n",
        "toolbox.register(\"mutate\", gp.mutUniform, expr=toolbox.expr, pset= pset)\n",
        "\n",
        "#5 Evolucion\n",
        "pop = toolbox.population(n=50)\n",
        "for gen in range(10):\n",
        "  offspring = tools.selTournament(pop, len(pop), tournsize=3)\n",
        "  offspring = list(map(toolbox.clone, offspring))\n",
        "  for child1, child2 in zip(offspring[::2], offspring[1::2]):\n",
        "    if random.random() < 0.5:\n",
        "      toolbox.mate(child1, child2)\n",
        "  for mutant in offspring :\n",
        "    if random.random () < 0.2:\n",
        "      toolbox.mutate(mutant)\n",
        "  for ind in offspring:\n",
        "    ind.fitness.values = toolbox.evaluate(ind)\n",
        "  pop[:] = offspring\n",
        "  print(f\"Generation {gen}: Mejor fitness = {max(ind.fitness.values[0] for ind in pop)}\")\n",
        "\n",
        "#6 Mejor individuo y pruebas\n",
        "best_ind = tools.selBest(pop, 1)[0]\n",
        "func_best = toolbox.compile(expr=best_ind)\n",
        "y_pred = [1 if func_best(*x) > 0 else 0 for x in X_test]\n",
        "print(\"Accuracy em test:\", accuracy_score(y_test, y_pred))\n",
        "print(\"Mejor individuo:\", best_ind)"
      ],
      "metadata": {
        "colab": {
          "base_uri": "https://localhost:8080/"
        },
        "id": "c1CDirVeTnKY",
        "outputId": "960a5288-f3bd-4df0-9a8d-77c85f229209"
      },
      "execution_count": null,
      "outputs": [
        {
          "output_type": "stream",
          "name": "stderr",
          "text": [
            "/usr/local/lib/python3.11/dist-packages/deap/gp.py:257: RuntimeWarning: Ephemeral rand function cannot be pickled because its generating function is a lambda function. Use functools.partial instead.\n",
            "  warnings.warn(\"Ephemeral {name} function cannot be \"\n",
            "/usr/local/lib/python3.11/dist-packages/deap/creator.py:185: RuntimeWarning: A class named 'FitnessMax' has already been created and it will be overwritten. Consider deleting previous creation of that class or rename it.\n",
            "  warnings.warn(\"A class named '{0}' has already been created and it \"\n",
            "/usr/local/lib/python3.11/dist-packages/deap/creator.py:185: RuntimeWarning: A class named 'Individual' has already been created and it will be overwritten. Consider deleting previous creation of that class or rename it.\n",
            "  warnings.warn(\"A class named '{0}' has already been created and it \"\n"
          ]
        },
        {
          "output_type": "stream",
          "name": "stdout",
          "text": [
            "Generation 0: Mejor fitness = 0.676056338028169\n",
            "Generation 1: Mejor fitness = 0.7370892018779343\n",
            "Generation 2: Mejor fitness = 0.7370892018779343\n",
            "Generation 3: Mejor fitness = 0.8333333333333334\n",
            "Generation 4: Mejor fitness = 0.8333333333333334\n",
            "Generation 5: Mejor fitness = 0.8333333333333334\n",
            "Generation 6: Mejor fitness = 0.8826291079812206\n",
            "Generation 7: Mejor fitness = 0.7370892018779343\n",
            "Generation 8: Mejor fitness = 0.7370892018779343\n",
            "Generation 9: Mejor fitness = 0.7370892018779343\n",
            "Accuracy em test: 0.7132867132867133\n",
            "Mejor individuo: sub(mul(ARG14, ARG21), ARG6)\n"
          ]
        }
      ]
    },
    {
      "cell_type": "code",
      "source": [
        "#Ejemplo de sesgo en datos de entreamiento\n",
        "#Datos ficticios (a;os de experiencia, genero, contratado; 1= si, 0=n0)\n",
        "# Nota \"M\" masculino, \"F\" femenino.\n",
        "datos = [\n",
        "    (5, \"M\", 1),\n",
        "    (4, \"M\", 1),\n",
        "    (6, \"M\", 1),\n",
        "    (5, \"F\", 0),\n",
        "    (4, \"F\", 0),\n",
        "    (6, \"F\", 0)\n",
        "]\n",
        "\n",
        "#Funciom simple para decidir di al contratar (muy basico y sesgado)\n",
        "def decidir_contratacion(anios_exp, genero):\n",
        "  #Se entrena con datos en los que siempre se contrato a hombres\n",
        "  if genero ==\"M\" and anios_exp >=4:\n",
        "    return \"Contratado\"\n",
        "  else:\n",
        "    return \"No cntratado\"\n",
        "  #probams con candidatos identicos pero distinto genero\n",
        "print(decidir_contratacion(5, \"M\"))#Contratado\n",
        "print(decidir_contratacion(5, \"F\"))#No contratado\n"
      ],
      "metadata": {
        "colab": {
          "base_uri": "https://localhost:8080/"
        },
        "id": "H7oVaCfZfGgO",
        "outputId": "f124b7dd-58ff-47dd-d1d5-affffd81b32d"
      },
      "execution_count": null,
      "outputs": [
        {
          "output_type": "stream",
          "name": "stdout",
          "text": [
            "Contratado\n",
            "No cntratado\n"
          ]
        }
      ]
    }
  ]
}