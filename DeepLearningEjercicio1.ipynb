{
  "nbformat": 4,
  "nbformat_minor": 0,
  "metadata": {
    "colab": {
      "provenance": [],
      "authorship_tag": "ABX9TyNIZ9zTfqc4RHGcDdTf+Ybu",
      "include_colab_link": true
    },
    "kernelspec": {
      "name": "python3",
      "display_name": "Python 3"
    },
    "language_info": {
      "name": "python"
    }
  },
  "cells": [
    {
      "cell_type": "markdown",
      "metadata": {
        "id": "view-in-github",
        "colab_type": "text"
      },
      "source": [
        "<a href=\"https://colab.research.google.com/github/ErikaNat/Inteligencia-Artificial/blob/main/DeepLearningEjercicio1.ipynb\" target=\"_parent\"><img src=\"https://colab.research.google.com/assets/colab-badge.svg\" alt=\"Open In Colab\"/></a>"
      ]
    },
    {
      "cell_type": "code",
      "execution_count": null,
      "metadata": {
        "colab": {
          "base_uri": "https://localhost:8080/"
        },
        "id": "fXbON4BdebkB",
        "outputId": "023ec807-0bd2-4481-a2fd-2092c8162df3"
      },
      "outputs": [
        {
          "output_type": "stream",
          "name": "stdout",
          "text": [
            "Predicciones [0 0 0 1]\n",
            "Pesos: [[ 3. -1.]]\n",
            "Bias [-1.]\n"
          ]
        }
      ],
      "source": [
        "import numpy as np\n",
        "from sklearn.linear_model import Perceptron\n",
        "#Datos de enyrada(x) y salida esperada(y)\n",
        "\n",
        "#Entradas inarias (0 o 1)\n",
        "x= np.array([[0,0],[0,1],[0,1],[1,1]])\n",
        "y= np.array ([0,0,0,1]) #salida\n",
        "\n",
        "#Crear el perceptron\n",
        "modelo = Perceptron(max_iter=1000, tol=1e-3)\n",
        "\n",
        "#Entrnar\n",
        "modelo.fit(x,y)\n",
        "#probar\n",
        "print(\"Predicciones\", modelo.predict(x))\n",
        "print(\"Pesos:\",modelo.coef_)\n",
        "print(\"Bias\", modelo.intercept_)"
      ]
    }
  ]
}