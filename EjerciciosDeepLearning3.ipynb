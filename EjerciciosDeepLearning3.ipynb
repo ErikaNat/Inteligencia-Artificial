{
  "nbformat": 4,
  "nbformat_minor": 0,
  "metadata": {
    "colab": {
      "provenance": [],
      "authorship_tag": "ABX9TyPMhyrnbZbciQZdLPilaMUj",
      "include_colab_link": true
    },
    "kernelspec": {
      "name": "python3",
      "display_name": "Python 3"
    },
    "language_info": {
      "name": "python"
    }
  },
  "cells": [
    {
      "cell_type": "markdown",
      "metadata": {
        "id": "view-in-github",
        "colab_type": "text"
      },
      "source": [
        "<a href=\"https://colab.research.google.com/github/ErikaNat/Inteligencia-Artificial/blob/main/EjerciciosDeepLearning3.ipynb\" target=\"_parent\"><img src=\"https://colab.research.google.com/assets/colab-badge.svg\" alt=\"Open In Colab\"/></a>"
      ]
    },
    {
      "cell_type": "code",
      "execution_count": null,
      "metadata": {
        "colab": {
          "base_uri": "https://localhost:8080/"
        },
        "id": "x4cg658GflVA",
        "outputId": "61243ab9-247c-47f5-8814-e57434b6abb6"
      },
      "outputs": [
        {
          "output_type": "stream",
          "name": "stdout",
          "text": [
            "Accuracy: 1.0\n"
          ]
        }
      ],
      "source": [
        " #Ejercicio 3: Red neuronal en el dataset Iris\n",
        " from sklearn.datasets import load_iris\n",
        " from sklearn.model_selection import train_test_split #Dividir dats en base de entrenamiento y testing\n",
        "\n",
        " #Eb 5\n",
        " from sklearn.neural_network import MLPClassifier\n",
        " from sklearn.metrics import accuracy_score\n",
        "\n",
        " #Cargar dataset Iris\n",
        " iris = load_iris()\n",
        "x,y= iris.data, iris.target\n",
        "\n",
        "#Dividir en entrenamiento y prueba\n",
        "x_train , x_test, y_train, y_test = train_test_split(x,y, test_size=0.3, random_state=42) #0.3 es para test porcentaje. puede ser 0 o 42 (42 es estandar )\n",
        "\n",
        "#Crear modelp\n",
        "mlp = MLPClassifier(hidden_layer_sizes=(10,15,20,30), activation=\"relu\", max_iter=2000) #trabajo dos capas de 10 neuronas cada una\n",
        "\n",
        "#Entrenar el modelo\n",
        "mlp.fit(x_train, y_train)\n",
        "\n",
        "#Evaluar\n",
        "y_pred = mlp.predict(x_test)\n",
        "accuracy = accuracy_score(y_test, y_pred)\n",
        "print(f\"Accuracy: {accuracy}\")"
      ]
    }
  ]
}