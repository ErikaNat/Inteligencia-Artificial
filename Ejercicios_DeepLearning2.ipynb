{
  "nbformat": 4,
  "nbformat_minor": 0,
  "metadata": {
    "colab": {
      "provenance": [],
      "authorship_tag": "ABX9TyOd1/CvCrDMfu/HXmMR8FbV",
      "include_colab_link": true
    },
    "kernelspec": {
      "name": "python3",
      "display_name": "Python 3"
    },
    "language_info": {
      "name": "python"
    }
  },
  "cells": [
    {
      "cell_type": "markdown",
      "metadata": {
        "id": "view-in-github",
        "colab_type": "text"
      },
      "source": [
        "<a href=\"https://colab.research.google.com/github/ErikaNat/Inteligencia-Artificial/blob/main/Ejercicios_DeepLearning2.ipynb\" target=\"_parent\"><img src=\"https://colab.research.google.com/assets/colab-badge.svg\" alt=\"Open In Colab\"/></a>"
      ]
    },
    {
      "cell_type": "code",
      "execution_count": null,
      "metadata": {
        "colab": {
          "base_uri": "https://localhost:8080/"
        },
        "id": "Nu9Q8_qHe3_G",
        "outputId": "5cef39a6-9ef8-4dae-fe62-45fcd99200f3"
      },
      "outputs": [
        {
          "output_type": "stream",
          "name": "stdout",
          "text": [
            "Predicciones XOR: [0 1 1 0]\n",
            "Probabilidades [[0.95366276 0.04633724]\n",
            " [0.21470883 0.78529117]\n",
            " [0.02175417 0.97824583]\n",
            " [0.99060346 0.00939654]]\n"
          ]
        }
      ],
      "source": [
        "#       EJERCICIOS DEEP LEARNING 2\n",
        "\n",
        "#Operador 2\n",
        "#Ejercicio 2: MLP para resolver el XOR\n",
        "import numpy as np\n",
        "from sklearn.neural_network import MLPClassifier\n",
        "\n",
        "#Datos XOR\n",
        "x=np.array([[0,0], [0,1], [1,0], [1,1]])\n",
        "y= np.array([0,1,1,0])#Salida XOR\n",
        "\n",
        "#Red neuronal con 2 capas ocultas de 4 neuronas cada una\n",
        "mlp =MLPClassifier(hidden_layer_sizes=(4,4), activation=\"relu\", max_iter=2000)\n",
        "#Entrenar\n",
        "mlp.fit(x,y)\n",
        "\n",
        "#Probar\n",
        "print(\"Predicciones XOR:\", mlp.predict(x))\n",
        "print(\"Probabilidades\", mlp.predict_proba(x))"
      ]
    }
  ]
}