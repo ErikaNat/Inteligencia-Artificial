{
  "nbformat": 4,
  "nbformat_minor": 0,
  "metadata": {
    "colab": {
      "provenance": [],
      "authorship_tag": "ABX9TyOmNUl9L6C3I9/IkLS9ChCc",
      "include_colab_link": true
    },
    "kernelspec": {
      "name": "python3",
      "display_name": "Python 3"
    },
    "language_info": {
      "name": "python"
    }
  },
  "cells": [
    {
      "cell_type": "markdown",
      "metadata": {
        "id": "view-in-github",
        "colab_type": "text"
      },
      "source": [
        "<a href=\"https://colab.research.google.com/github/ErikaNat/Inteligencia-Artificial/blob/main/Ejercicios_Deep_Learning5.ipynb\" target=\"_parent\"><img src=\"https://colab.research.google.com/assets/colab-badge.svg\" alt=\"Open In Colab\"/></a>"
      ]
    },
    {
      "cell_type": "code",
      "source": [
        "import os\n",
        "import numpy as np\n",
        "import pandas as pd\n",
        "import tensorflow as tf\n",
        "\n",
        "from sklearn.model_selection import train_test_split\n",
        "from sklearn.preprocessing import OneHotEncoder, StandardScaler, LabelEncoder\n",
        "from sklearn.compose import ColumnTransformer\n",
        "from sklearn.metrics import classification_report, confusion_matrix, roc_auc_score"
      ],
      "metadata": {
        "id": "xjb_c0k_qSiA"
      },
      "execution_count": null,
      "outputs": []
    },
    {
      "cell_type": "code",
      "source": [
        "SEED = 42\n",
        "os.environ[\"PYTHONHASHSEED\"] = str(SEED)\n",
        "np.random.seed(SEED)\n",
        "tf.random.set_seed(SEED)\n",
        "print(\"Tensorflow:\", tf.__version__)"
      ],
      "metadata": {
        "id": "p7b9LWxVqSZz",
        "colab": {
          "base_uri": "https://localhost:8080/"
        },
        "outputId": "46ed0486-75d4-4238-b47e-350b650314ce"
      },
      "execution_count": null,
      "outputs": [
        {
          "output_type": "stream",
          "name": "stdout",
          "text": [
            "Tensorflow: 2.19.0\n"
          ]
        }
      ]
    },
    {
      "cell_type": "code",
      "source": [
        "dataset = pd.read_csv(\"Churn_Modelling.csv\")\n",
        "X = dataset.iloc[:, 3:-1].copy()\n",
        "y = dataset.iloc[:, -1].values\n",
        "print(\"Shapes:\", X.shape, y.shape)"
      ],
      "metadata": {
        "id": "_fDlhLssqSRk",
        "colab": {
          "base_uri": "https://localhost:8080/"
        },
        "outputId": "4190aea4-13eb-4e7c-afed-2950f6f7b283"
      },
      "execution_count": null,
      "outputs": [
        {
          "output_type": "stream",
          "name": "stdout",
          "text": [
            "Shapes: (10000, 10) (10000,)\n"
          ]
        }
      ]
    },
    {
      "cell_type": "code",
      "source": [
        "le_gender = LabelEncoder()\n",
        "X.loc[:, X.columns[2]] = le_gender.fit_transform(X.iloc[:, 2])\n",
        "ct = ColumnTransformer(\n",
        "    transformers=[(\"geo_ohe\", OneHotEncoder(handle_unknown=\"ignore\"), [1])],\n",
        "    remainder=\"passthrough\"\n",
        ")\n",
        "X_ohe = ct.fit_transform(X)\n",
        "X_ohe = np.asarray(X_ohe).astype(\"float32\")"
      ],
      "metadata": {
        "id": "Vw0ok8eUqSHT"
      },
      "execution_count": null,
      "outputs": []
    },
    {
      "cell_type": "code",
      "source": [
        "X_train, X_test, y_train, y_test = train_test_split(\n",
        "    X_ohe, y, test_size=0.2, random_state=SEED, stratify=y\n",
        ")\n",
        "\n",
        "sc = StandardScaler(with_mean=False)\n",
        "X_train = sc.fit_transform(X_train).astype(\"float32\")\n",
        "X_test = sc.transform(X_test).astype(\"float32\")"
      ],
      "metadata": {
        "id": "9Jkp-KurqR7o"
      },
      "execution_count": null,
      "outputs": []
    },
    {
      "cell_type": "code",
      "execution_count": null,
      "metadata": {
        "id": "xx_iUGCmnXvh",
        "colab": {
          "base_uri": "https://localhost:8080/",
          "height": 293
        },
        "outputId": "e0ed526a-f78a-4143-9390-92ff70ae4745"
      },
      "outputs": [
        {
          "output_type": "stream",
          "name": "stderr",
          "text": [
            "/usr/local/lib/python3.12/dist-packages/keras/src/layers/core/dense.py:93: UserWarning: Do not pass an `input_shape`/`input_dim` argument to a layer. When using Sequential models, prefer using an `Input(shape)` object as the first layer in the model instead.\n",
            "  super().__init__(activity_regularizer=activity_regularizer, **kwargs)\n"
          ]
        },
        {
          "output_type": "display_data",
          "data": {
            "text/plain": [
              "\u001b[1mModel: \"sequential\"\u001b[0m\n"
            ],
            "text/html": [
              "<pre style=\"white-space:pre;overflow-x:auto;line-height:normal;font-family:Menlo,'DejaVu Sans Mono',consolas,'Courier New',monospace\"><span style=\"font-weight: bold\">Model: \"sequential\"</span>\n",
              "</pre>\n"
            ]
          },
          "metadata": {}
        },
        {
          "output_type": "display_data",
          "data": {
            "text/plain": [
              "┏━━━━━━━━━━━━━━━━━━━━━━━━━━━━━━━━━┳━━━━━━━━━━━━━━━━━━━━━━━━┳━━━━━━━━━━━━━━━┓\n",
              "┃\u001b[1m \u001b[0m\u001b[1mLayer (type)                   \u001b[0m\u001b[1m \u001b[0m┃\u001b[1m \u001b[0m\u001b[1mOutput Shape          \u001b[0m\u001b[1m \u001b[0m┃\u001b[1m \u001b[0m\u001b[1m      Param #\u001b[0m\u001b[1m \u001b[0m┃\n",
              "┡━━━━━━━━━━━━━━━━━━━━━━━━━━━━━━━━━╇━━━━━━━━━━━━━━━━━━━━━━━━╇━━━━━━━━━━━━━━━┩\n",
              "│ dense (\u001b[38;5;33mDense\u001b[0m)                   │ (\u001b[38;5;45mNone\u001b[0m, \u001b[38;5;34m16\u001b[0m)             │           \u001b[38;5;34m208\u001b[0m │\n",
              "├─────────────────────────────────┼────────────────────────┼───────────────┤\n",
              "│ dense_1 (\u001b[38;5;33mDense\u001b[0m)                 │ (\u001b[38;5;45mNone\u001b[0m, \u001b[38;5;34m16\u001b[0m)             │           \u001b[38;5;34m272\u001b[0m │\n",
              "├─────────────────────────────────┼────────────────────────┼───────────────┤\n",
              "│ dense_2 (\u001b[38;5;33mDense\u001b[0m)                 │ (\u001b[38;5;45mNone\u001b[0m, \u001b[38;5;34m1\u001b[0m)              │            \u001b[38;5;34m17\u001b[0m │\n",
              "└─────────────────────────────────┴────────────────────────┴───────────────┘\n"
            ],
            "text/html": [
              "<pre style=\"white-space:pre;overflow-x:auto;line-height:normal;font-family:Menlo,'DejaVu Sans Mono',consolas,'Courier New',monospace\">┏━━━━━━━━━━━━━━━━━━━━━━━━━━━━━━━━━┳━━━━━━━━━━━━━━━━━━━━━━━━┳━━━━━━━━━━━━━━━┓\n",
              "┃<span style=\"font-weight: bold\"> Layer (type)                    </span>┃<span style=\"font-weight: bold\"> Output Shape           </span>┃<span style=\"font-weight: bold\">       Param # </span>┃\n",
              "┡━━━━━━━━━━━━━━━━━━━━━━━━━━━━━━━━━╇━━━━━━━━━━━━━━━━━━━━━━━━╇━━━━━━━━━━━━━━━┩\n",
              "│ dense (<span style=\"color: #0087ff; text-decoration-color: #0087ff\">Dense</span>)                   │ (<span style=\"color: #00d7ff; text-decoration-color: #00d7ff\">None</span>, <span style=\"color: #00af00; text-decoration-color: #00af00\">16</span>)             │           <span style=\"color: #00af00; text-decoration-color: #00af00\">208</span> │\n",
              "├─────────────────────────────────┼────────────────────────┼───────────────┤\n",
              "│ dense_1 (<span style=\"color: #0087ff; text-decoration-color: #0087ff\">Dense</span>)                 │ (<span style=\"color: #00d7ff; text-decoration-color: #00d7ff\">None</span>, <span style=\"color: #00af00; text-decoration-color: #00af00\">16</span>)             │           <span style=\"color: #00af00; text-decoration-color: #00af00\">272</span> │\n",
              "├─────────────────────────────────┼────────────────────────┼───────────────┤\n",
              "│ dense_2 (<span style=\"color: #0087ff; text-decoration-color: #0087ff\">Dense</span>)                 │ (<span style=\"color: #00d7ff; text-decoration-color: #00d7ff\">None</span>, <span style=\"color: #00af00; text-decoration-color: #00af00\">1</span>)              │            <span style=\"color: #00af00; text-decoration-color: #00af00\">17</span> │\n",
              "└─────────────────────────────────┴────────────────────────┴───────────────┘\n",
              "</pre>\n"
            ]
          },
          "metadata": {}
        },
        {
          "output_type": "display_data",
          "data": {
            "text/plain": [
              "\u001b[1m Total params: \u001b[0m\u001b[38;5;34m497\u001b[0m (1.94 KB)\n"
            ],
            "text/html": [
              "<pre style=\"white-space:pre;overflow-x:auto;line-height:normal;font-family:Menlo,'DejaVu Sans Mono',consolas,'Courier New',monospace\"><span style=\"font-weight: bold\"> Total params: </span><span style=\"color: #00af00; text-decoration-color: #00af00\">497</span> (1.94 KB)\n",
              "</pre>\n"
            ]
          },
          "metadata": {}
        },
        {
          "output_type": "display_data",
          "data": {
            "text/plain": [
              "\u001b[1m Trainable params: \u001b[0m\u001b[38;5;34m497\u001b[0m (1.94 KB)\n"
            ],
            "text/html": [
              "<pre style=\"white-space:pre;overflow-x:auto;line-height:normal;font-family:Menlo,'DejaVu Sans Mono',consolas,'Courier New',monospace\"><span style=\"font-weight: bold\"> Trainable params: </span><span style=\"color: #00af00; text-decoration-color: #00af00\">497</span> (1.94 KB)\n",
              "</pre>\n"
            ]
          },
          "metadata": {}
        },
        {
          "output_type": "display_data",
          "data": {
            "text/plain": [
              "\u001b[1m Non-trainable params: \u001b[0m\u001b[38;5;34m0\u001b[0m (0.00 B)\n"
            ],
            "text/html": [
              "<pre style=\"white-space:pre;overflow-x:auto;line-height:normal;font-family:Menlo,'DejaVu Sans Mono',consolas,'Courier New',monospace\"><span style=\"font-weight: bold\"> Non-trainable params: </span><span style=\"color: #00af00; text-decoration-color: #00af00\">0</span> (0.00 B)\n",
              "</pre>\n"
            ]
          },
          "metadata": {}
        }
      ],
      "source": [
        "from tensorflow.keras import layers, models, callbacks\n",
        "def build_model(input_dim):\n",
        "  model = models.Sequential([\n",
        "      layers.Dense(16, activation=\"relu\", input_shape=(input_dim,)),\n",
        "      layers.Dense(16, activation=\"relu\"),\n",
        "      layers.Dense(1, activation=\"sigmoid\")\n",
        "  ])\n",
        "  model.compile(\n",
        "      optimizer=\"adam\",\n",
        "      loss=\"binary_crossentropy\",\n",
        "      metrics=[\"accuracy\", tf.keras.metrics.AUC(name=\"auc\")]\n",
        "  )\n",
        "  return model\n",
        "ann = build_model(input_dim=X_train.shape[1])\n",
        "ann.summary()"
      ]
    },
    {
      "cell_type": "code",
      "source": [
        "cb = [\n",
        "    callbacks.EarlyStopping(patience=10, restore_best_weights=True, monitor=\"val_auc\", mode=\"max\"),\n",
        "    callbacks.ModelCheckpoint(\"best_ann.keras\", monitor=\"val_auc\", mode=\"max\", save_best_only=True),\n",
        "    callbacks.ReduceLROnPlateau(monitor=\"val_loss\", patience=5, factor=0.5)\n",
        "]"
      ],
      "metadata": {
        "id": "l1C5rxTNr2CC"
      },
      "execution_count": null,
      "outputs": []
    },
    {
      "cell_type": "code",
      "source": [
        "hists = ann.fit(\n",
        "    X_train, y_train,\n",
        "    validation_split=0.2,\n",
        "    epochs=200,\n",
        "    batch_size=32,\n",
        "    callbacks=cb,\n",
        "    verbose=1\n",
        ")"
      ],
      "metadata": {
        "id": "biLyViqts9_k",
        "colab": {
          "base_uri": "https://localhost:8080/"
        },
        "outputId": "d5db8f1c-528c-49f6-a3ac-f625f23bbfe5"
      },
      "execution_count": null,
      "outputs": [
        {
          "output_type": "stream",
          "name": "stdout",
          "text": [
            "Epoch 1/200\n",
            "\u001b[1m200/200\u001b[0m \u001b[32m━━━━━━━━━━━━━━━━━━━━\u001b[0m\u001b[37m\u001b[0m \u001b[1m2s\u001b[0m 4ms/step - accuracy: 0.7883 - auc: 0.5412 - loss: 0.5533 - val_accuracy: 0.8000 - val_auc: 0.6832 - val_loss: 0.4678 - learning_rate: 0.0010\n",
            "Epoch 2/200\n",
            "\u001b[1m200/200\u001b[0m \u001b[32m━━━━━━━━━━━━━━━━━━━━\u001b[0m\u001b[37m\u001b[0m \u001b[1m2s\u001b[0m 7ms/step - accuracy: 0.7944 - auc: 0.7028 - loss: 0.4692 - val_accuracy: 0.8131 - val_auc: 0.7344 - val_loss: 0.4410 - learning_rate: 0.0010\n",
            "Epoch 3/200\n",
            "\u001b[1m200/200\u001b[0m \u001b[32m━━━━━━━━━━━━━━━━━━━━\u001b[0m\u001b[37m\u001b[0m \u001b[1m2s\u001b[0m 8ms/step - accuracy: 0.8064 - auc: 0.7505 - loss: 0.4428 - val_accuracy: 0.8206 - val_auc: 0.7532 - val_loss: 0.4284 - learning_rate: 0.0010\n",
            "Epoch 4/200\n",
            "\u001b[1m200/200\u001b[0m \u001b[32m━━━━━━━━━━━━━━━━━━━━\u001b[0m\u001b[37m\u001b[0m \u001b[1m2s\u001b[0m 10ms/step - accuracy: 0.8179 - auc: 0.7731 - loss: 0.4276 - val_accuracy: 0.8331 - val_auc: 0.7678 - val_loss: 0.4180 - learning_rate: 0.0010\n",
            "Epoch 5/200\n",
            "\u001b[1m200/200\u001b[0m \u001b[32m━━━━━━━━━━━━━━━━━━━━\u001b[0m\u001b[37m\u001b[0m \u001b[1m1s\u001b[0m 4ms/step - accuracy: 0.8228 - auc: 0.7875 - loss: 0.4178 - val_accuracy: 0.8369 - val_auc: 0.7783 - val_loss: 0.4101 - learning_rate: 0.0010\n",
            "Epoch 6/200\n",
            "\u001b[1m200/200\u001b[0m \u001b[32m━━━━━━━━━━━━━━━━━━━━\u001b[0m\u001b[37m\u001b[0m \u001b[1m2s\u001b[0m 6ms/step - accuracy: 0.8243 - auc: 0.7967 - loss: 0.4108 - val_accuracy: 0.8400 - val_auc: 0.7880 - val_loss: 0.4026 - learning_rate: 0.0010\n",
            "Epoch 7/200\n",
            "\u001b[1m200/200\u001b[0m \u001b[32m━━━━━━━━━━━━━━━━━━━━\u001b[0m\u001b[37m\u001b[0m \u001b[1m1s\u001b[0m 6ms/step - accuracy: 0.8262 - auc: 0.8051 - loss: 0.4042 - val_accuracy: 0.8425 - val_auc: 0.8023 - val_loss: 0.3921 - learning_rate: 0.0010\n",
            "Epoch 8/200\n",
            "\u001b[1m200/200\u001b[0m \u001b[32m━━━━━━━━━━━━━━━━━━━━\u001b[0m\u001b[37m\u001b[0m \u001b[1m1s\u001b[0m 5ms/step - accuracy: 0.8330 - auc: 0.8144 - loss: 0.3962 - val_accuracy: 0.8456 - val_auc: 0.8110 - val_loss: 0.3849 - learning_rate: 0.0010\n",
            "Epoch 9/200\n",
            "\u001b[1m200/200\u001b[0m \u001b[32m━━━━━━━━━━━━━━━━━━━━\u001b[0m\u001b[37m\u001b[0m \u001b[1m1s\u001b[0m 6ms/step - accuracy: 0.8348 - auc: 0.8219 - loss: 0.3895 - val_accuracy: 0.8462 - val_auc: 0.8167 - val_loss: 0.3792 - learning_rate: 0.0010\n",
            "Epoch 10/200\n",
            "\u001b[1m200/200\u001b[0m \u001b[32m━━━━━━━━━━━━━━━━━━━━\u001b[0m\u001b[37m\u001b[0m \u001b[1m1s\u001b[0m 2ms/step - accuracy: 0.8374 - auc: 0.8270 - loss: 0.3843 - val_accuracy: 0.8469 - val_auc: 0.8206 - val_loss: 0.3752 - learning_rate: 0.0010\n",
            "Epoch 11/200\n",
            "\u001b[1m200/200\u001b[0m \u001b[32m━━━━━━━━━━━━━━━━━━━━\u001b[0m\u001b[37m\u001b[0m \u001b[1m1s\u001b[0m 3ms/step - accuracy: 0.8414 - auc: 0.8310 - loss: 0.3802 - val_accuracy: 0.8469 - val_auc: 0.8237 - val_loss: 0.3720 - learning_rate: 0.0010\n",
            "Epoch 12/200\n",
            "\u001b[1m200/200\u001b[0m \u001b[32m━━━━━━━━━━━━━━━━━━━━\u001b[0m\u001b[37m\u001b[0m \u001b[1m1s\u001b[0m 3ms/step - accuracy: 0.8441 - auc: 0.8343 - loss: 0.3769 - val_accuracy: 0.8494 - val_auc: 0.8267 - val_loss: 0.3689 - learning_rate: 0.0010\n",
            "Epoch 13/200\n",
            "\u001b[1m200/200\u001b[0m \u001b[32m━━━━━━━━━━━━━━━━━━━━\u001b[0m\u001b[37m\u001b[0m \u001b[1m1s\u001b[0m 3ms/step - accuracy: 0.8455 - auc: 0.8367 - loss: 0.3741 - val_accuracy: 0.8494 - val_auc: 0.8297 - val_loss: 0.3662 - learning_rate: 0.0010\n",
            "Epoch 14/200\n",
            "\u001b[1m200/200\u001b[0m \u001b[32m━━━━━━━━━━━━━━━━━━━━\u001b[0m\u001b[37m\u001b[0m \u001b[1m1s\u001b[0m 3ms/step - accuracy: 0.8452 - auc: 0.8387 - loss: 0.3718 - val_accuracy: 0.8494 - val_auc: 0.8316 - val_loss: 0.3639 - learning_rate: 0.0010\n",
            "Epoch 15/200\n",
            "\u001b[1m200/200\u001b[0m \u001b[32m━━━━━━━━━━━━━━━━━━━━\u001b[0m\u001b[37m\u001b[0m \u001b[1m1s\u001b[0m 3ms/step - accuracy: 0.8460 - auc: 0.8401 - loss: 0.3700 - val_accuracy: 0.8531 - val_auc: 0.8339 - val_loss: 0.3615 - learning_rate: 0.0010\n",
            "Epoch 16/200\n",
            "\u001b[1m200/200\u001b[0m \u001b[32m━━━━━━━━━━━━━━━━━━━━\u001b[0m\u001b[37m\u001b[0m \u001b[1m1s\u001b[0m 4ms/step - accuracy: 0.8467 - auc: 0.8419 - loss: 0.3682 - val_accuracy: 0.8581 - val_auc: 0.8357 - val_loss: 0.3596 - learning_rate: 0.0010\n",
            "Epoch 17/200\n",
            "\u001b[1m200/200\u001b[0m \u001b[32m━━━━━━━━━━━━━━━━━━━━\u001b[0m\u001b[37m\u001b[0m \u001b[1m1s\u001b[0m 3ms/step - accuracy: 0.8487 - auc: 0.8429 - loss: 0.3668 - val_accuracy: 0.8600 - val_auc: 0.8377 - val_loss: 0.3576 - learning_rate: 0.0010\n",
            "Epoch 18/200\n",
            "\u001b[1m200/200\u001b[0m \u001b[32m━━━━━━━━━━━━━━━━━━━━\u001b[0m\u001b[37m\u001b[0m \u001b[1m1s\u001b[0m 2ms/step - accuracy: 0.8495 - auc: 0.8440 - loss: 0.3654 - val_accuracy: 0.8606 - val_auc: 0.8392 - val_loss: 0.3560 - learning_rate: 0.0010\n",
            "Epoch 19/200\n",
            "\u001b[1m200/200\u001b[0m \u001b[32m━━━━━━━━━━━━━━━━━━━━\u001b[0m\u001b[37m\u001b[0m \u001b[1m1s\u001b[0m 2ms/step - accuracy: 0.8496 - auc: 0.8454 - loss: 0.3640 - val_accuracy: 0.8637 - val_auc: 0.8408 - val_loss: 0.3542 - learning_rate: 0.0010\n",
            "Epoch 20/200\n",
            "\u001b[1m200/200\u001b[0m \u001b[32m━━━━━━━━━━━━━━━━━━━━\u001b[0m\u001b[37m\u001b[0m \u001b[1m1s\u001b[0m 3ms/step - accuracy: 0.8493 - auc: 0.8465 - loss: 0.3627 - val_accuracy: 0.8631 - val_auc: 0.8415 - val_loss: 0.3531 - learning_rate: 0.0010\n",
            "Epoch 21/200\n",
            "\u001b[1m200/200\u001b[0m \u001b[32m━━━━━━━━━━━━━━━━━━━━\u001b[0m\u001b[37m\u001b[0m \u001b[1m1s\u001b[0m 3ms/step - accuracy: 0.8511 - auc: 0.8473 - loss: 0.3617 - val_accuracy: 0.8650 - val_auc: 0.8430 - val_loss: 0.3518 - learning_rate: 0.0010\n",
            "Epoch 22/200\n",
            "\u001b[1m200/200\u001b[0m \u001b[32m━━━━━━━━━━━━━━━━━━━━\u001b[0m\u001b[37m\u001b[0m \u001b[1m1s\u001b[0m 2ms/step - accuracy: 0.8511 - auc: 0.8486 - loss: 0.3606 - val_accuracy: 0.8650 - val_auc: 0.8442 - val_loss: 0.3506 - learning_rate: 0.0010\n",
            "Epoch 23/200\n",
            "\u001b[1m200/200\u001b[0m \u001b[32m━━━━━━━━━━━━━━━━━━━━\u001b[0m\u001b[37m\u001b[0m \u001b[1m1s\u001b[0m 3ms/step - accuracy: 0.8515 - auc: 0.8493 - loss: 0.3597 - val_accuracy: 0.8650 - val_auc: 0.8451 - val_loss: 0.3495 - learning_rate: 0.0010\n",
            "Epoch 24/200\n",
            "\u001b[1m200/200\u001b[0m \u001b[32m━━━━━━━━━━━━━━━━━━━━\u001b[0m\u001b[37m\u001b[0m \u001b[1m1s\u001b[0m 3ms/step - accuracy: 0.8526 - auc: 0.8503 - loss: 0.3587 - val_accuracy: 0.8644 - val_auc: 0.8464 - val_loss: 0.3484 - learning_rate: 0.0010\n",
            "Epoch 25/200\n",
            "\u001b[1m200/200\u001b[0m \u001b[32m━━━━━━━━━━━━━━━━━━━━\u001b[0m\u001b[37m\u001b[0m \u001b[1m1s\u001b[0m 2ms/step - accuracy: 0.8542 - auc: 0.8510 - loss: 0.3579 - val_accuracy: 0.8650 - val_auc: 0.8472 - val_loss: 0.3473 - learning_rate: 0.0010\n",
            "Epoch 26/200\n",
            "\u001b[1m200/200\u001b[0m \u001b[32m━━━━━━━━━━━━━━━━━━━━\u001b[0m\u001b[37m\u001b[0m \u001b[1m1s\u001b[0m 3ms/step - accuracy: 0.8554 - auc: 0.8516 - loss: 0.3570 - val_accuracy: 0.8656 - val_auc: 0.8484 - val_loss: 0.3460 - learning_rate: 0.0010\n",
            "Epoch 27/200\n",
            "\u001b[1m200/200\u001b[0m \u001b[32m━━━━━━━━━━━━━━━━━━━━\u001b[0m\u001b[37m\u001b[0m \u001b[1m1s\u001b[0m 2ms/step - accuracy: 0.8564 - auc: 0.8526 - loss: 0.3560 - val_accuracy: 0.8656 - val_auc: 0.8493 - val_loss: 0.3452 - learning_rate: 0.0010\n",
            "Epoch 28/200\n",
            "\u001b[1m200/200\u001b[0m \u001b[32m━━━━━━━━━━━━━━━━━━━━\u001b[0m\u001b[37m\u001b[0m \u001b[1m1s\u001b[0m 2ms/step - accuracy: 0.8571 - auc: 0.8536 - loss: 0.3552 - val_accuracy: 0.8650 - val_auc: 0.8501 - val_loss: 0.3443 - learning_rate: 0.0010\n",
            "Epoch 29/200\n",
            "\u001b[1m200/200\u001b[0m \u001b[32m━━━━━━━━━━━━━━━━━━━━\u001b[0m\u001b[37m\u001b[0m \u001b[1m1s\u001b[0m 3ms/step - accuracy: 0.8563 - auc: 0.8541 - loss: 0.3544 - val_accuracy: 0.8650 - val_auc: 0.8508 - val_loss: 0.3437 - learning_rate: 0.0010\n",
            "Epoch 30/200\n",
            "\u001b[1m200/200\u001b[0m \u001b[32m━━━━━━━━━━━━━━━━━━━━\u001b[0m\u001b[37m\u001b[0m \u001b[1m1s\u001b[0m 3ms/step - accuracy: 0.8571 - auc: 0.8548 - loss: 0.3538 - val_accuracy: 0.8644 - val_auc: 0.8514 - val_loss: 0.3428 - learning_rate: 0.0010\n",
            "Epoch 31/200\n",
            "\u001b[1m200/200\u001b[0m \u001b[32m━━━━━━━━━━━━━━━━━━━━\u001b[0m\u001b[37m\u001b[0m \u001b[1m1s\u001b[0m 3ms/step - accuracy: 0.8575 - auc: 0.8553 - loss: 0.3531 - val_accuracy: 0.8625 - val_auc: 0.8519 - val_loss: 0.3422 - learning_rate: 0.0010\n",
            "Epoch 32/200\n",
            "\u001b[1m200/200\u001b[0m \u001b[32m━━━━━━━━━━━━━━━━━━━━\u001b[0m\u001b[37m\u001b[0m \u001b[1m1s\u001b[0m 3ms/step - accuracy: 0.8572 - auc: 0.8559 - loss: 0.3525 - val_accuracy: 0.8631 - val_auc: 0.8521 - val_loss: 0.3417 - learning_rate: 0.0010\n",
            "Epoch 33/200\n",
            "\u001b[1m200/200\u001b[0m \u001b[32m━━━━━━━━━━━━━━━━━━━━\u001b[0m\u001b[37m\u001b[0m \u001b[1m1s\u001b[0m 2ms/step - accuracy: 0.8569 - auc: 0.8564 - loss: 0.3520 - val_accuracy: 0.8625 - val_auc: 0.8527 - val_loss: 0.3409 - learning_rate: 0.0010\n",
            "Epoch 34/200\n",
            "\u001b[1m200/200\u001b[0m \u001b[32m━━━━━━━━━━━━━━━━━━━━\u001b[0m\u001b[37m\u001b[0m \u001b[1m1s\u001b[0m 4ms/step - accuracy: 0.8579 - auc: 0.8570 - loss: 0.3513 - val_accuracy: 0.8631 - val_auc: 0.8533 - val_loss: 0.3404 - learning_rate: 0.0010\n",
            "Epoch 35/200\n",
            "\u001b[1m200/200\u001b[0m \u001b[32m━━━━━━━━━━━━━━━━━━━━\u001b[0m\u001b[37m\u001b[0m \u001b[1m1s\u001b[0m 4ms/step - accuracy: 0.8587 - auc: 0.8576 - loss: 0.3507 - val_accuracy: 0.8625 - val_auc: 0.8538 - val_loss: 0.3399 - learning_rate: 0.0010\n",
            "Epoch 36/200\n",
            "\u001b[1m200/200\u001b[0m \u001b[32m━━━━━━━━━━━━━━━━━━━━\u001b[0m\u001b[37m\u001b[0m \u001b[1m1s\u001b[0m 3ms/step - accuracy: 0.8587 - auc: 0.8580 - loss: 0.3501 - val_accuracy: 0.8625 - val_auc: 0.8543 - val_loss: 0.3396 - learning_rate: 0.0010\n",
            "Epoch 37/200\n",
            "\u001b[1m200/200\u001b[0m \u001b[32m━━━━━━━━━━━━━━━━━━━━\u001b[0m\u001b[37m\u001b[0m \u001b[1m1s\u001b[0m 3ms/step - accuracy: 0.8598 - auc: 0.8586 - loss: 0.3498 - val_accuracy: 0.8631 - val_auc: 0.8549 - val_loss: 0.3391 - learning_rate: 0.0010\n",
            "Epoch 38/200\n",
            "\u001b[1m200/200\u001b[0m \u001b[32m━━━━━━━━━━━━━━━━━━━━\u001b[0m\u001b[37m\u001b[0m \u001b[1m1s\u001b[0m 2ms/step - accuracy: 0.8595 - auc: 0.8589 - loss: 0.3492 - val_accuracy: 0.8619 - val_auc: 0.8554 - val_loss: 0.3389 - learning_rate: 0.0010\n",
            "Epoch 39/200\n",
            "\u001b[1m200/200\u001b[0m \u001b[32m━━━━━━━━━━━━━━━━━━━━\u001b[0m\u001b[37m\u001b[0m \u001b[1m1s\u001b[0m 3ms/step - accuracy: 0.8594 - auc: 0.8596 - loss: 0.3488 - val_accuracy: 0.8606 - val_auc: 0.8553 - val_loss: 0.3388 - learning_rate: 0.0010\n",
            "Epoch 40/200\n",
            "\u001b[1m200/200\u001b[0m \u001b[32m━━━━━━━━━━━━━━━━━━━━\u001b[0m\u001b[37m\u001b[0m \u001b[1m1s\u001b[0m 3ms/step - accuracy: 0.8591 - auc: 0.8599 - loss: 0.3483 - val_accuracy: 0.8594 - val_auc: 0.8555 - val_loss: 0.3388 - learning_rate: 0.0010\n",
            "Epoch 41/200\n",
            "\u001b[1m200/200\u001b[0m \u001b[32m━━━━━━━━━━━━━━━━━━━━\u001b[0m\u001b[37m\u001b[0m \u001b[1m1s\u001b[0m 3ms/step - accuracy: 0.8597 - auc: 0.8602 - loss: 0.3481 - val_accuracy: 0.8594 - val_auc: 0.8558 - val_loss: 0.3386 - learning_rate: 0.0010\n",
            "Epoch 42/200\n",
            "\u001b[1m200/200\u001b[0m \u001b[32m━━━━━━━━━━━━━━━━━━━━\u001b[0m\u001b[37m\u001b[0m \u001b[1m1s\u001b[0m 3ms/step - accuracy: 0.8596 - auc: 0.8606 - loss: 0.3477 - val_accuracy: 0.8594 - val_auc: 0.8558 - val_loss: 0.3382 - learning_rate: 0.0010\n",
            "Epoch 43/200\n",
            "\u001b[1m200/200\u001b[0m \u001b[32m━━━━━━━━━━━━━━━━━━━━\u001b[0m\u001b[37m\u001b[0m \u001b[1m1s\u001b[0m 2ms/step - accuracy: 0.8598 - auc: 0.8608 - loss: 0.3474 - val_accuracy: 0.8594 - val_auc: 0.8561 - val_loss: 0.3379 - learning_rate: 0.0010\n",
            "Epoch 44/200\n",
            "\u001b[1m200/200\u001b[0m \u001b[32m━━━━━━━━━━━━━━━━━━━━\u001b[0m\u001b[37m\u001b[0m \u001b[1m1s\u001b[0m 3ms/step - accuracy: 0.8594 - auc: 0.8610 - loss: 0.3469 - val_accuracy: 0.8600 - val_auc: 0.8562 - val_loss: 0.3377 - learning_rate: 0.0010\n",
            "Epoch 45/200\n",
            "\u001b[1m200/200\u001b[0m \u001b[32m━━━━━━━━━━━━━━━━━━━━\u001b[0m\u001b[37m\u001b[0m \u001b[1m1s\u001b[0m 3ms/step - accuracy: 0.8601 - auc: 0.8612 - loss: 0.3469 - val_accuracy: 0.8619 - val_auc: 0.8564 - val_loss: 0.3374 - learning_rate: 0.0010\n",
            "Epoch 46/200\n",
            "\u001b[1m200/200\u001b[0m \u001b[32m━━━━━━━━━━━━━━━━━━━━\u001b[0m\u001b[37m\u001b[0m \u001b[1m1s\u001b[0m 3ms/step - accuracy: 0.8592 - auc: 0.8618 - loss: 0.3464 - val_accuracy: 0.8619 - val_auc: 0.8563 - val_loss: 0.3370 - learning_rate: 0.0010\n",
            "Epoch 47/200\n",
            "\u001b[1m200/200\u001b[0m \u001b[32m━━━━━━━━━━━━━━━━━━━━\u001b[0m\u001b[37m\u001b[0m \u001b[1m1s\u001b[0m 3ms/step - accuracy: 0.8586 - auc: 0.8624 - loss: 0.3458 - val_accuracy: 0.8631 - val_auc: 0.8567 - val_loss: 0.3368 - learning_rate: 0.0010\n",
            "Epoch 48/200\n",
            "\u001b[1m200/200\u001b[0m \u001b[32m━━━━━━━━━━━━━━━━━━━━\u001b[0m\u001b[37m\u001b[0m \u001b[1m1s\u001b[0m 3ms/step - accuracy: 0.8588 - auc: 0.8627 - loss: 0.3454 - val_accuracy: 0.8625 - val_auc: 0.8569 - val_loss: 0.3366 - learning_rate: 0.0010\n",
            "Epoch 49/200\n",
            "\u001b[1m200/200\u001b[0m \u001b[32m━━━━━━━━━━━━━━━━━━━━\u001b[0m\u001b[37m\u001b[0m \u001b[1m1s\u001b[0m 3ms/step - accuracy: 0.8590 - auc: 0.8629 - loss: 0.3450 - val_accuracy: 0.8625 - val_auc: 0.8568 - val_loss: 0.3363 - learning_rate: 0.0010\n",
            "Epoch 50/200\n",
            "\u001b[1m200/200\u001b[0m \u001b[32m━━━━━━━━━━━━━━━━━━━━\u001b[0m\u001b[37m\u001b[0m \u001b[1m1s\u001b[0m 3ms/step - accuracy: 0.8596 - auc: 0.8633 - loss: 0.3446 - val_accuracy: 0.8637 - val_auc: 0.8573 - val_loss: 0.3359 - learning_rate: 0.0010\n",
            "Epoch 51/200\n",
            "\u001b[1m200/200\u001b[0m \u001b[32m━━━━━━━━━━━━━━━━━━━━\u001b[0m\u001b[37m\u001b[0m \u001b[1m1s\u001b[0m 3ms/step - accuracy: 0.8592 - auc: 0.8638 - loss: 0.3442 - val_accuracy: 0.8631 - val_auc: 0.8574 - val_loss: 0.3357 - learning_rate: 0.0010\n",
            "Epoch 52/200\n",
            "\u001b[1m200/200\u001b[0m \u001b[32m━━━━━━━━━━━━━━━━━━━━\u001b[0m\u001b[37m\u001b[0m \u001b[1m1s\u001b[0m 3ms/step - accuracy: 0.8585 - auc: 0.8641 - loss: 0.3438 - val_accuracy: 0.8631 - val_auc: 0.8574 - val_loss: 0.3355 - learning_rate: 0.0010\n",
            "Epoch 53/200\n",
            "\u001b[1m200/200\u001b[0m \u001b[32m━━━━━━━━━━━━━━━━━━━━\u001b[0m\u001b[37m\u001b[0m \u001b[1m1s\u001b[0m 4ms/step - accuracy: 0.8585 - auc: 0.8642 - loss: 0.3435 - val_accuracy: 0.8644 - val_auc: 0.8576 - val_loss: 0.3354 - learning_rate: 0.0010\n",
            "Epoch 54/200\n",
            "\u001b[1m200/200\u001b[0m \u001b[32m━━━━━━━━━━━━━━━━━━━━\u001b[0m\u001b[37m\u001b[0m \u001b[1m1s\u001b[0m 4ms/step - accuracy: 0.8586 - auc: 0.8645 - loss: 0.3433 - val_accuracy: 0.8637 - val_auc: 0.8577 - val_loss: 0.3353 - learning_rate: 0.0010\n",
            "Epoch 55/200\n",
            "\u001b[1m200/200\u001b[0m \u001b[32m━━━━━━━━━━━━━━━━━━━━\u001b[0m\u001b[37m\u001b[0m \u001b[1m1s\u001b[0m 3ms/step - accuracy: 0.8588 - auc: 0.8648 - loss: 0.3431 - val_accuracy: 0.8644 - val_auc: 0.8584 - val_loss: 0.3347 - learning_rate: 0.0010\n",
            "Epoch 56/200\n",
            "\u001b[1m200/200\u001b[0m \u001b[32m━━━━━━━━━━━━━━━━━━━━\u001b[0m\u001b[37m\u001b[0m \u001b[1m1s\u001b[0m 2ms/step - accuracy: 0.8593 - auc: 0.8652 - loss: 0.3427 - val_accuracy: 0.8644 - val_auc: 0.8583 - val_loss: 0.3345 - learning_rate: 0.0010\n",
            "Epoch 57/200\n",
            "\u001b[1m200/200\u001b[0m \u001b[32m━━━━━━━━━━━━━━━━━━━━\u001b[0m\u001b[37m\u001b[0m \u001b[1m1s\u001b[0m 3ms/step - accuracy: 0.8600 - auc: 0.8655 - loss: 0.3424 - val_accuracy: 0.8650 - val_auc: 0.8588 - val_loss: 0.3343 - learning_rate: 0.0010\n",
            "Epoch 58/200\n",
            "\u001b[1m200/200\u001b[0m \u001b[32m━━━━━━━━━━━━━━━━━━━━\u001b[0m\u001b[37m\u001b[0m \u001b[1m1s\u001b[0m 2ms/step - accuracy: 0.8599 - auc: 0.8657 - loss: 0.3422 - val_accuracy: 0.8656 - val_auc: 0.8589 - val_loss: 0.3340 - learning_rate: 0.0010\n",
            "Epoch 59/200\n",
            "\u001b[1m200/200\u001b[0m \u001b[32m━━━━━━━━━━━━━━━━━━━━\u001b[0m\u001b[37m\u001b[0m \u001b[1m1s\u001b[0m 3ms/step - accuracy: 0.8590 - auc: 0.8656 - loss: 0.3422 - val_accuracy: 0.8662 - val_auc: 0.8592 - val_loss: 0.3336 - learning_rate: 0.0010\n",
            "Epoch 60/200\n",
            "\u001b[1m200/200\u001b[0m \u001b[32m━━━━━━━━━━━━━━━━━━━━\u001b[0m\u001b[37m\u001b[0m \u001b[1m1s\u001b[0m 3ms/step - accuracy: 0.8593 - auc: 0.8659 - loss: 0.3418 - val_accuracy: 0.8675 - val_auc: 0.8591 - val_loss: 0.3335 - learning_rate: 0.0010\n",
            "Epoch 61/200\n",
            "\u001b[1m200/200\u001b[0m \u001b[32m━━━━━━━━━━━━━━━━━━━━\u001b[0m\u001b[37m\u001b[0m \u001b[1m1s\u001b[0m 3ms/step - accuracy: 0.8590 - auc: 0.8659 - loss: 0.3416 - val_accuracy: 0.8681 - val_auc: 0.8595 - val_loss: 0.3332 - learning_rate: 0.0010\n",
            "Epoch 62/200\n",
            "\u001b[1m200/200\u001b[0m \u001b[32m━━━━━━━━━━━━━━━━━━━━\u001b[0m\u001b[37m\u001b[0m \u001b[1m1s\u001b[0m 3ms/step - accuracy: 0.8586 - auc: 0.8661 - loss: 0.3414 - val_accuracy: 0.8669 - val_auc: 0.8592 - val_loss: 0.3334 - learning_rate: 0.0010\n",
            "Epoch 63/200\n",
            "\u001b[1m200/200\u001b[0m \u001b[32m━━━━━━━━━━━━━━━━━━━━\u001b[0m\u001b[37m\u001b[0m \u001b[1m1s\u001b[0m 2ms/step - accuracy: 0.8593 - auc: 0.8662 - loss: 0.3411 - val_accuracy: 0.8669 - val_auc: 0.8591 - val_loss: 0.3332 - learning_rate: 0.0010\n",
            "Epoch 64/200\n",
            "\u001b[1m200/200\u001b[0m \u001b[32m━━━━━━━━━━━━━━━━━━━━\u001b[0m\u001b[37m\u001b[0m \u001b[1m0s\u001b[0m 2ms/step - accuracy: 0.8591 - auc: 0.8666 - loss: 0.3409 - val_accuracy: 0.8662 - val_auc: 0.8592 - val_loss: 0.3331 - learning_rate: 0.0010\n",
            "Epoch 65/200\n",
            "\u001b[1m200/200\u001b[0m \u001b[32m━━━━━━━━━━━━━━━━━━━━\u001b[0m\u001b[37m\u001b[0m \u001b[1m1s\u001b[0m 3ms/step - accuracy: 0.8596 - auc: 0.8667 - loss: 0.3409 - val_accuracy: 0.8662 - val_auc: 0.8600 - val_loss: 0.3327 - learning_rate: 0.0010\n",
            "Epoch 66/200\n",
            "\u001b[1m200/200\u001b[0m \u001b[32m━━━━━━━━━━━━━━━━━━━━\u001b[0m\u001b[37m\u001b[0m \u001b[1m1s\u001b[0m 3ms/step - accuracy: 0.8602 - auc: 0.8670 - loss: 0.3405 - val_accuracy: 0.8669 - val_auc: 0.8600 - val_loss: 0.3324 - learning_rate: 0.0010\n",
            "Epoch 67/200\n",
            "\u001b[1m200/200\u001b[0m \u001b[32m━━━━━━━━━━━━━━━━━━━━\u001b[0m\u001b[37m\u001b[0m \u001b[1m1s\u001b[0m 3ms/step - accuracy: 0.8606 - auc: 0.8672 - loss: 0.3403 - val_accuracy: 0.8675 - val_auc: 0.8601 - val_loss: 0.3319 - learning_rate: 0.0010\n",
            "Epoch 68/200\n",
            "\u001b[1m200/200\u001b[0m \u001b[32m━━━━━━━━━━━━━━━━━━━━\u001b[0m\u001b[37m\u001b[0m \u001b[1m1s\u001b[0m 3ms/step - accuracy: 0.8592 - auc: 0.8674 - loss: 0.3401 - val_accuracy: 0.8681 - val_auc: 0.8598 - val_loss: 0.3319 - learning_rate: 0.0010\n",
            "Epoch 69/200\n",
            "\u001b[1m200/200\u001b[0m \u001b[32m━━━━━━━━━━━━━━━━━━━━\u001b[0m\u001b[37m\u001b[0m \u001b[1m1s\u001b[0m 3ms/step - accuracy: 0.8594 - auc: 0.8677 - loss: 0.3399 - val_accuracy: 0.8687 - val_auc: 0.8601 - val_loss: 0.3317 - learning_rate: 0.0010\n",
            "Epoch 70/200\n",
            "\u001b[1m200/200\u001b[0m \u001b[32m━━━━━━━━━━━━━━━━━━━━\u001b[0m\u001b[37m\u001b[0m \u001b[1m1s\u001b[0m 3ms/step - accuracy: 0.8603 - auc: 0.8679 - loss: 0.3397 - val_accuracy: 0.8700 - val_auc: 0.8602 - val_loss: 0.3313 - learning_rate: 0.0010\n",
            "Epoch 71/200\n",
            "\u001b[1m200/200\u001b[0m \u001b[32m━━━━━━━━━━━━━━━━━━━━\u001b[0m\u001b[37m\u001b[0m \u001b[1m1s\u001b[0m 4ms/step - accuracy: 0.8604 - auc: 0.8679 - loss: 0.3395 - val_accuracy: 0.8706 - val_auc: 0.8600 - val_loss: 0.3313 - learning_rate: 0.0010\n",
            "Epoch 72/200\n",
            "\u001b[1m200/200\u001b[0m \u001b[32m━━━━━━━━━━━━━━━━━━━━\u001b[0m\u001b[37m\u001b[0m \u001b[1m1s\u001b[0m 4ms/step - accuracy: 0.8601 - auc: 0.8679 - loss: 0.3394 - val_accuracy: 0.8706 - val_auc: 0.8600 - val_loss: 0.3312 - learning_rate: 0.0010\n",
            "Epoch 73/200\n",
            "\u001b[1m200/200\u001b[0m \u001b[32m━━━━━━━━━━━━━━━━━━━━\u001b[0m\u001b[37m\u001b[0m \u001b[1m1s\u001b[0m 3ms/step - accuracy: 0.8605 - auc: 0.8680 - loss: 0.3393 - val_accuracy: 0.8706 - val_auc: 0.8602 - val_loss: 0.3311 - learning_rate: 0.0010\n",
            "Epoch 74/200\n",
            "\u001b[1m200/200\u001b[0m \u001b[32m━━━━━━━━━━━━━━━━━━━━\u001b[0m\u001b[37m\u001b[0m \u001b[1m1s\u001b[0m 3ms/step - accuracy: 0.8608 - auc: 0.8682 - loss: 0.3392 - val_accuracy: 0.8694 - val_auc: 0.8602 - val_loss: 0.3308 - learning_rate: 0.0010\n",
            "Epoch 75/200\n",
            "\u001b[1m200/200\u001b[0m \u001b[32m━━━━━━━━━━━━━━━━━━━━\u001b[0m\u001b[37m\u001b[0m \u001b[1m1s\u001b[0m 3ms/step - accuracy: 0.8600 - auc: 0.8682 - loss: 0.3390 - val_accuracy: 0.8681 - val_auc: 0.8605 - val_loss: 0.3308 - learning_rate: 0.0010\n",
            "Epoch 76/200\n",
            "\u001b[1m200/200\u001b[0m \u001b[32m━━━━━━━━━━━━━━━━━━━━\u001b[0m\u001b[37m\u001b[0m \u001b[1m1s\u001b[0m 3ms/step - accuracy: 0.8610 - auc: 0.8684 - loss: 0.3389 - val_accuracy: 0.8687 - val_auc: 0.8606 - val_loss: 0.3305 - learning_rate: 0.0010\n",
            "Epoch 77/200\n",
            "\u001b[1m200/200\u001b[0m \u001b[32m━━━━━━━━━━━━━━━━━━━━\u001b[0m\u001b[37m\u001b[0m \u001b[1m1s\u001b[0m 3ms/step - accuracy: 0.8618 - auc: 0.8684 - loss: 0.3386 - val_accuracy: 0.8687 - val_auc: 0.8605 - val_loss: 0.3308 - learning_rate: 0.0010\n",
            "Epoch 78/200\n",
            "\u001b[1m200/200\u001b[0m \u001b[32m━━━━━━━━━━━━━━━━━━━━\u001b[0m\u001b[37m\u001b[0m \u001b[1m1s\u001b[0m 2ms/step - accuracy: 0.8612 - auc: 0.8686 - loss: 0.3384 - val_accuracy: 0.8687 - val_auc: 0.8606 - val_loss: 0.3305 - learning_rate: 0.0010\n",
            "Epoch 79/200\n",
            "\u001b[1m200/200\u001b[0m \u001b[32m━━━━━━━━━━━━━━━━━━━━\u001b[0m\u001b[37m\u001b[0m \u001b[1m1s\u001b[0m 2ms/step - accuracy: 0.8627 - auc: 0.8688 - loss: 0.3381 - val_accuracy: 0.8687 - val_auc: 0.8608 - val_loss: 0.3308 - learning_rate: 0.0010\n",
            "Epoch 80/200\n",
            "\u001b[1m200/200\u001b[0m \u001b[32m━━━━━━━━━━━━━━━━━━━━\u001b[0m\u001b[37m\u001b[0m \u001b[1m1s\u001b[0m 3ms/step - accuracy: 0.8623 - auc: 0.8692 - loss: 0.3379 - val_accuracy: 0.8687 - val_auc: 0.8613 - val_loss: 0.3303 - learning_rate: 0.0010\n",
            "Epoch 81/200\n",
            "\u001b[1m200/200\u001b[0m \u001b[32m━━━━━━━━━━━━━━━━━━━━\u001b[0m\u001b[37m\u001b[0m \u001b[1m1s\u001b[0m 3ms/step - accuracy: 0.8622 - auc: 0.8691 - loss: 0.3378 - val_accuracy: 0.8694 - val_auc: 0.8616 - val_loss: 0.3303 - learning_rate: 0.0010\n",
            "Epoch 82/200\n",
            "\u001b[1m200/200\u001b[0m \u001b[32m━━━━━━━━━━━━━━━━━━━━\u001b[0m\u001b[37m\u001b[0m \u001b[1m1s\u001b[0m 3ms/step - accuracy: 0.8617 - auc: 0.8694 - loss: 0.3375 - val_accuracy: 0.8687 - val_auc: 0.8617 - val_loss: 0.3303 - learning_rate: 0.0010\n",
            "Epoch 83/200\n",
            "\u001b[1m200/200\u001b[0m \u001b[32m━━━━━━━━━━━━━━━━━━━━\u001b[0m\u001b[37m\u001b[0m \u001b[1m1s\u001b[0m 4ms/step - accuracy: 0.8609 - auc: 0.8695 - loss: 0.3374 - val_accuracy: 0.8687 - val_auc: 0.8612 - val_loss: 0.3303 - learning_rate: 0.0010\n",
            "Epoch 84/200\n",
            "\u001b[1m200/200\u001b[0m \u001b[32m━━━━━━━━━━━━━━━━━━━━\u001b[0m\u001b[37m\u001b[0m \u001b[1m1s\u001b[0m 5ms/step - accuracy: 0.8619 - auc: 0.8699 - loss: 0.3371 - val_accuracy: 0.8694 - val_auc: 0.8613 - val_loss: 0.3302 - learning_rate: 0.0010\n",
            "Epoch 85/200\n",
            "\u001b[1m200/200\u001b[0m \u001b[32m━━━━━━━━━━━━━━━━━━━━\u001b[0m\u001b[37m\u001b[0m \u001b[1m1s\u001b[0m 3ms/step - accuracy: 0.8619 - auc: 0.8698 - loss: 0.3370 - val_accuracy: 0.8700 - val_auc: 0.8615 - val_loss: 0.3301 - learning_rate: 0.0010\n",
            "Epoch 86/200\n",
            "\u001b[1m200/200\u001b[0m \u001b[32m━━━━━━━━━━━━━━━━━━━━\u001b[0m\u001b[37m\u001b[0m \u001b[1m1s\u001b[0m 3ms/step - accuracy: 0.8613 - auc: 0.8703 - loss: 0.3367 - val_accuracy: 0.8675 - val_auc: 0.8613 - val_loss: 0.3302 - learning_rate: 0.0010\n",
            "Epoch 87/200\n",
            "\u001b[1m200/200\u001b[0m \u001b[32m━━━━━━━━━━━━━━━━━━━━\u001b[0m\u001b[37m\u001b[0m \u001b[1m1s\u001b[0m 5ms/step - accuracy: 0.8609 - auc: 0.8700 - loss: 0.3368 - val_accuracy: 0.8675 - val_auc: 0.8611 - val_loss: 0.3304 - learning_rate: 0.0010\n",
            "Epoch 88/200\n",
            "\u001b[1m200/200\u001b[0m \u001b[32m━━━━━━━━━━━━━━━━━━━━\u001b[0m\u001b[37m\u001b[0m \u001b[1m1s\u001b[0m 4ms/step - accuracy: 0.8610 - auc: 0.8700 - loss: 0.3367 - val_accuracy: 0.8681 - val_auc: 0.8614 - val_loss: 0.3305 - learning_rate: 0.0010\n",
            "Epoch 89/200\n",
            "\u001b[1m200/200\u001b[0m \u001b[32m━━━━━━━━━━━━━━━━━━━━\u001b[0m\u001b[37m\u001b[0m \u001b[1m1s\u001b[0m 4ms/step - accuracy: 0.8619 - auc: 0.8705 - loss: 0.3365 - val_accuracy: 0.8700 - val_auc: 0.8609 - val_loss: 0.3302 - learning_rate: 0.0010\n",
            "Epoch 90/200\n",
            "\u001b[1m200/200\u001b[0m \u001b[32m━━━━━━━━━━━━━━━━━━━━\u001b[0m\u001b[37m\u001b[0m \u001b[1m1s\u001b[0m 3ms/step - accuracy: 0.8617 - auc: 0.8716 - loss: 0.3351 - val_accuracy: 0.8706 - val_auc: 0.8603 - val_loss: 0.3309 - learning_rate: 5.0000e-04\n",
            "Epoch 91/200\n",
            "\u001b[1m200/200\u001b[0m \u001b[32m━━━━━━━━━━━━━━━━━━━━\u001b[0m\u001b[37m\u001b[0m \u001b[1m1s\u001b[0m 3ms/step - accuracy: 0.8606 - auc: 0.8718 - loss: 0.3349 - val_accuracy: 0.8700 - val_auc: 0.8606 - val_loss: 0.3305 - learning_rate: 5.0000e-04\n",
            "Epoch 92/200\n",
            "\u001b[1m200/200\u001b[0m \u001b[32m━━━━━━━━━━━━━━━━━━━━\u001b[0m\u001b[37m\u001b[0m \u001b[1m1s\u001b[0m 4ms/step - accuracy: 0.8606 - auc: 0.8721 - loss: 0.3347 - val_accuracy: 0.8700 - val_auc: 0.8608 - val_loss: 0.3304 - learning_rate: 5.0000e-04\n"
          ]
        }
      ]
    },
    {
      "cell_type": "code",
      "source": [
        "y_proba = ann.predict(X_test).ravel()\n",
        "y_pred = (y_proba >= 0.5).astype(int)\n",
        "\n",
        "print(\"\\nMatriz de confusión:\\n\", confusion_matrix(y_test, y_pred))\n",
        "print(\"\\nReporte de clasificación:\\n\", classification_report(y_test, y_pred, digits=4))\n",
        "print(\"AUC:\", roc_auc_score(y_test, y_proba))\n"
      ],
      "metadata": {
        "id": "ZcfD7j8VuAsZ",
        "colab": {
          "base_uri": "https://localhost:8080/"
        },
        "outputId": "b9fe2b58-3225-483c-914d-0138c1c0daa2"
      },
      "execution_count": null,
      "outputs": [
        {
          "output_type": "stream",
          "name": "stdout",
          "text": [
            "\u001b[1m63/63\u001b[0m \u001b[32m━━━━━━━━━━━━━━━━━━━━\u001b[0m\u001b[37m\u001b[0m \u001b[1m0s\u001b[0m 1ms/step  \n",
            "\n",
            "Matriz de confusión:\n",
            " [[1522   71]\n",
            " [ 204  203]]\n",
            "\n",
            "Reporte de clasificación:\n",
            "               precision    recall  f1-score   support\n",
            "\n",
            "           0     0.8818    0.9554    0.9171      1593\n",
            "           1     0.7409    0.4988    0.5962       407\n",
            "\n",
            "    accuracy                         0.8625      2000\n",
            "   macro avg     0.8113    0.7271    0.7567      2000\n",
            "weighted avg     0.8531    0.8625    0.8518      2000\n",
            "\n",
            "AUC: 0.856472805625348\n"
          ]
        }
      ]
    }
  ]
}